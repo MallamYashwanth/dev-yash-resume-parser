{
 "cells": [
  {
   "cell_type": "code",
   "execution_count": 19,
   "metadata": {},
   "outputs": [
    {
     "name": "stdout",
     "output_type": "stream",
     "text": [
      "{'parsed_data': '```json\\n{\\n    \"personal_information\": {\\n        \"first_name\": \"Divakar\",\\n        \"last_name\": \"Sai\",\\n        \"email\": \"divakarsainukala@gmail.com\",\\n        \"phone\": \"9866592899\"\\n    },\\n    \"socials\": {\\n        \"github\": \"github.com/DivakarSai\",\\n        \"linkedin\": \"linkedin.com/in/divakar-sai\",\\n        \"twitter\": \"\",\\n        \"website\": \"\"\\n    },\\n    \"courses\": [\\n        \"Programming and Data Structures\",\\n        \"Machine Learning A-Z\",\\n        \"The Web Development BootCamp\",\\n        \"Natural Language Processing\",\\n        \"Probability and Statistics\",\\n        \"Operations Research\",\\n        \"Foundations of Entrepreneurship\",\\n        \"MIT 6.006 Introduction to Algorithms\"\\n    ],\\n    \"education\": [\\n        {\\n            \"university\": \"Indian Institute of Technology, Kharagpur\",\\n            \"degree\": \"B.Tech + M.Tech (Dual Degree)\",\\n            \"major\": \"MANUF. SCI & Industrial and Systems Engg.\",\\n            \"dates\": \"Aug. 2018 - May 2023\",\\n            \"CGPA\": \"8.3/10\"\\n        }\\n    ],\\n    \"experience\": [\\n        {\\n            \"title\": \"Software Development Engineer\",\\n            \"company\": \"Cogoport Private Limited, Mumbai\",\\n            \"dates\": \"Aug. 2023 - Oct. 2023\",\\n            \"description\": \"Led the migration effort from Ruby on Rails to Python, spearheaded modifications in the PostgreSQL database schema, engineered new models and APIs in Python, integrated Redis and Celery, and developed a predictive scheduling feature.\"\\n        }\\n    ],\\n    \"publications\": [\\n        {\\n            \"title\": \"A Comparative Study of Distance-Based Clustering Algorithms in Fuzzy Failure Modes and Effects Analysis\",\\n            \"conference\": \"7th International Conference on Data Management, Analytics and Innovation, 2023\",\\n            \"dates\": \"May. 2022 - Jan. 2023\"\\n        }\\n    ],\\n    \"skills\": [\\n        \"C\",\\n        \"C++\",\\n        \"Python\",\\n        \"HTML\",\\n        \"CSS\",\\n        \"JavaScript\",\\n        \"NodeJS\",\\n        \"ExpressJS\",\\n        \"ReactJS\",\\n        \"BabylonJS\",\\n        \"MongoDB\",\\n        \"PostgreSQL\",\\n        \"FastAPI\",\\n        \"Django\",\\n        \"Redis\",\\n        \"Celery\",\\n        \"Git\",\\n        \"Github\",\\n        \"Peewee\",\\n        \"OpenCV\",\\n        \"Numpy\",\\n        \"Pandas\",\\n        \"Keras\",\\n        \"TensorFlow\",\\n        \"Scikit-learn\"\\n    ],\\n    \"personal_projects\": [\\n        {\\n            \"title\": \"Text Extraction from News Broadcast\",\\n            \"dates\": \"Mar. 2023 - Apr. 2023\",\\n            \"description\": \"Developed a video processing system to extract text from news broadcasts using OpenCV and Tesseract.\"\\n        },\\n        {\\n            \"title\": \"E-commerce site for Agricultural Products\",\\n            \"dates\": \"Sept. 2022 - Jan. 2023\",\\n            \"description\": \"Engineered the backend architecture of an e-commerce platform for farm products using Node.js and Express.\"\\n        },\\n        {\\n            \"title\": \"Sentiment Analysis on Movie Reviews\",\\n            \"dates\": \"Apr. 2022 - Jun. 2022\",\\n            \"description\": \"Utilized GloVe word embeddings, LSTM/Bi-LSTM models, and BERT sentence embeddings for sentiment analysis.\"\\n        },\\n        {\\n            \"title\": \"Deep Learning and Time Series Forecasting Methods to predict stock prices\",\\n            \"dates\": \"Apr. 2021 - Aug. 2021\",\\n            \"description\": \"Forecasted S&P 500 company stock prices using time series models SARIMAX, ARIMA, LSTM, and RNN.\"\\n        }\\n    ],\\n    \"awards_and_achievements\": [\\n        {\\n            \"title\": \"Governor of Technology Dramatics Society, TSG-IIT Kharagpur\",\\n            \"dates\": \"May. 2020 - May. 2021\",\\n            \"description\": \"Led theatrical activities and efficiently allocated budget, conducted workshops for freshers.\"\\n        }\\n    ],\\n    \"position_of_responsibility\": [],\\n    \"competitions\": [],\\n    \"extra_curricular_activities\": [\\n        {\\n            \"title\": \"Squash Team, IIT Kharagpur\",\\n            \"description\": \"Facilitated workshops, organized tournaments, served as a referee, and represented the team in sports fest.\"\\n        },\\n        {\\n            \"title\": \"General Championship\",\\n            \"dates\": \"\",\\n            \"description\": \"Led the Nehru Hall squash team and guided its training for the GC.\"\\n        },\\n        {\\n            \"title\": \"Rangmanch\",\\n            \"dates\": \"\",\\n            \"description\": \"Attained the 5th position in Rangmanch, the Intercollege dramatics competition.\"\\n        }\\n    ]\\n}\\n```'}\n"
     ]
    }
   ],
   "source": [
    "import requests\n",
    "\n",
    "# Define the endpoint URL\n",
    "url = \"http://127.0.0.1:8000/parse-resume/\"\n",
    "\n",
    "# Define the path to your test resume file\n",
    "file_path = \"divakarSaiCV.pdf\"  # Replace with your actual file path\n",
    "\n",
    "# Open the file in binary mode\n",
    "with open(file_path, \"rb\") as file:\n",
    "    # Define the files dictionary to send in the request\n",
    "    files = {\"file\": file}\n",
    "    \n",
    "    # Send a POST request to the API\n",
    "    response = requests.post(url, files=files)\n",
    "\n",
    "# Print the response from the server\n",
    "print(response.json())\n",
    "\n",
    "\n"
   ]
  },
  {
   "cell_type": "code",
   "execution_count": 21,
   "metadata": {},
   "outputs": [
    {
     "name": "stdout",
     "output_type": "stream",
     "text": [
      "{\n",
      "  \"parsed_data\": \"```json\\n{\\n    \\\"personal_information\\\": {\\n        \\\"first_name\\\": \\\"Divakar\\\",\\n        \\\"last_name\\\": \\\"Sai\\\",\\n        \\\"email\\\": \\\"divakarsainukala@gmail.com\\\",\\n        \\\"phone\\\": \\\"9866592899\\\"\\n    },\\n    \\\"socials\\\": {\\n        \\\"github\\\": \\\"github.com/DivakarSai\\\",\\n        \\\"linkedin\\\": \\\"linkedin.com/in/divakar-sai\\\",\\n        \\\"twitter\\\": \\\"\\\",\\n        \\\"website\\\": \\\"\\\"\\n    },\\n    \\\"courses\\\": [\\n        \\\"Programming and Data Structures\\\",\\n        \\\"Machine Learning A-Z\\\",\\n        \\\"The Web Development BootCamp\\\",\\n        \\\"Natural Language Processing\\\",\\n        \\\"Probability and Statistics\\\",\\n        \\\"Operations Research\\\",\\n        \\\"Foundations of Entrepreneurship\\\",\\n        \\\"MIT 6.006 Introduction to Algorithms\\\"\\n    ],\\n    \\\"education\\\": [\\n        {\\n            \\\"university\\\": \\\"Indian Institute of Technology, Kharagpur\\\",\\n            \\\"degree\\\": \\\"B.Tech + M.Tech (Dual Degree)\\\",\\n            \\\"major\\\": \\\"MANUF. SCI & Industrial and Systems Engg.\\\",\\n            \\\"dates\\\": \\\"Aug. 2018 - May 2023\\\",\\n            \\\"CGPA\\\": \\\"8.3/10\\\"\\n        }\\n    ],\\n    \\\"experience\\\": [\\n        {\\n            \\\"title\\\": \\\"Software Development Engineer\\\",\\n            \\\"company\\\": \\\"Cogoport Private Limited, Mumbai\\\",\\n            \\\"dates\\\": \\\"Aug. 2023 - Oct. 2023\\\",\\n            \\\"description\\\": \\\"Led the migration effort from Ruby on Rails to Python, spearheaded modifications in the PostgreSQL database schema, engineered new models and APIs in Python, integrated Redis and Celery, and developed a predictive scheduling feature.\\\"\\n        }\\n    ],\\n    \\\"publications\\\": [\\n        {\\n            \\\"title\\\": \\\"A Comparative Study of Distance-Based Clustering Algorithms in Fuzzy Failure Modes and Effects Analysis\\\",\\n            \\\"conference\\\": \\\"7th International Conference on Data Management, Analytics and Innovation, 2023\\\",\\n            \\\"dates\\\": \\\"May. 2022 - Jan. 2023\\\"\\n        }\\n    ],\\n    \\\"skills\\\": [\\n        \\\"C\\\",\\n        \\\"C++\\\",\\n        \\\"Python\\\",\\n        \\\"HTML\\\",\\n        \\\"CSS\\\",\\n        \\\"JavaScript\\\",\\n        \\\"NodeJS\\\",\\n        \\\"ExpressJS\\\",\\n        \\\"ReactJS\\\",\\n        \\\"BabylonJS\\\",\\n        \\\"MongoDB\\\",\\n        \\\"PostgreSQL\\\",\\n        \\\"FastAPI\\\",\\n        \\\"Django\\\",\\n        \\\"Redis\\\",\\n        \\\"Celery\\\",\\n        \\\"Git\\\",\\n        \\\"Github\\\",\\n        \\\"Peewee\\\",\\n        \\\"OpenCV\\\",\\n        \\\"Numpy\\\",\\n        \\\"Pandas\\\",\\n        \\\"Keras\\\",\\n        \\\"TensorFlow\\\",\\n        \\\"Scikit-learn\\\"\\n    ],\\n    \\\"personal_projects\\\": [\\n        {\\n            \\\"title\\\": \\\"Text Extraction from News Broadcast\\\",\\n            \\\"dates\\\": \\\"Mar. 2023 - Apr. 2023\\\",\\n            \\\"description\\\": \\\"Developed a video processing system to extract text from news broadcasts using OpenCV and Tesseract.\\\"\\n        },\\n        {\\n            \\\"title\\\": \\\"E-commerce site for Agricultural Products\\\",\\n            \\\"dates\\\": \\\"Sept. 2022 - Jan. 2023\\\",\\n            \\\"description\\\": \\\"Engineered the backend architecture of an e-commerce platform for farm products using Node.js and Express.\\\"\\n        },\\n        {\\n            \\\"title\\\": \\\"Sentiment Analysis on Movie Reviews\\\",\\n            \\\"dates\\\": \\\"Apr. 2022 - Jun. 2022\\\",\\n            \\\"description\\\": \\\"Utilized GloVe word embeddings, LSTM/Bi-LSTM models, and BERT sentence embeddings for sentiment analysis.\\\"\\n        },\\n        {\\n            \\\"title\\\": \\\"Deep Learning and Time Series Forecasting Methods to predict stock prices\\\",\\n            \\\"dates\\\": \\\"Apr. 2021 - Aug. 2021\\\",\\n            \\\"description\\\": \\\"Forecasted S&P 500 company stock prices using time series models SARIMAX, ARIMA, LSTM, and RNN.\\\"\\n        }\\n    ],\\n    \\\"awards_and_achievements\\\": [\\n        {\\n            \\\"title\\\": \\\"Governor of Technology Dramatics Society, TSG-IIT Kharagpur\\\",\\n            \\\"dates\\\": \\\"May. 2020 - May. 2021\\\",\\n            \\\"description\\\": \\\"Led theatrical activities and efficiently allocated budget, conducted workshops for freshers.\\\"\\n        }\\n    ],\\n    \\\"position_of_responsibility\\\": [],\\n    \\\"competitions\\\": [],\\n    \\\"extra_curricular_activities\\\": [\\n        {\\n            \\\"title\\\": \\\"Squash Team, IIT Kharagpur\\\",\\n            \\\"description\\\": \\\"Facilitated workshops, organized tournaments, served as a referee, and represented the team in sports fest.\\\"\\n        },\\n        {\\n            \\\"title\\\": \\\"General Championship\\\",\\n            \\\"dates\\\": \\\"\\\",\\n            \\\"description\\\": \\\"Led the Nehru Hall squash team and guided its training for the GC.\\\"\\n        },\\n        {\\n            \\\"title\\\": \\\"Rangmanch\\\",\\n            \\\"dates\\\": \\\"\\\",\\n            \\\"description\\\": \\\"Attained the 5th position in Rangmanch, the Intercollege dramatics competition.\\\"\\n        }\\n    ]\\n}\\n```\"\n",
      "}\n"
     ]
    }
   ],
   "source": [
    "# pretty print the response\n",
    "import json\n",
    "print(json.dumps(response.json(), indent=2))\n",
    "\n",
    "# print like a json object\n",
    "PrettyJson = json.dumps(response.json(), indent=2)\n"
   ]
  },
  {
   "cell_type": "code",
   "execution_count": null,
   "metadata": {},
   "outputs": [],
   "source": []
  }
 ],
 "metadata": {
  "kernelspec": {
   "display_name": "venv",
   "language": "python",
   "name": "python3"
  },
  "language_info": {
   "codemirror_mode": {
    "name": "ipython",
    "version": 3
   },
   "file_extension": ".py",
   "mimetype": "text/x-python",
   "name": "python",
   "nbconvert_exporter": "python",
   "pygments_lexer": "ipython3",
   "version": "3.11.3"
  }
 },
 "nbformat": 4,
 "nbformat_minor": 2
}
